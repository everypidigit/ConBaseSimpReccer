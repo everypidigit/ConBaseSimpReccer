{
 "cells": [
  {
   "cell_type": "code",
   "execution_count": 2,
   "metadata": {
    "colab": {
     "base_uri": "https://localhost:8080/"
    },
    "id": "2vB0E27munpa",
    "outputId": "83fda555-b00e-4838-d05f-277b59d521e3"
   },
   "outputs": [
    {
     "name": "stdout",
     "output_type": "stream",
     "text": [
      "Skipping, found downloaded files in \"./the-movies-dataset\" (use force=True to force download)\n"
     ]
    }
   ],
   "source": [
    "!pip install opendatasets --upgrade --quiet\n",
    "\n",
    "import opendatasets as od\n",
    "dataset_url = 'https://www.kaggle.com/datasets/rounakbanik/the-movies-dataset'\n",
    "od.download(dataset_url)\n",
    "\n",
    "import pandas as pd"
   ]
  },
  {
   "cell_type": "code",
   "execution_count": 3,
   "metadata": {},
   "outputs": [],
   "source": [
    "metadata = pd.read_csv('the-movies-dataset/movies_metadata.csv', low_memory = False)"
   ]
  },
  {
   "cell_type": "code",
   "execution_count": 5,
   "metadata": {
    "colab": {
     "base_uri": "https://localhost:8080/"
    },
    "id": "pKp4SnWN0ObP",
    "outputId": "2a3ef1e2-a8ad-4079-9dd0-1a81d7cb509e"
   },
   "outputs": [
    {
     "data": {
      "text/plain": [
       "0    Led by Woody, Andy's toys live happily in his ...\n",
       "1    When siblings Judy and Peter discover an encha...\n",
       "2    A family wedding reignites the ancient feud be...\n",
       "3    Cheated on, mistreated and stepped on, the wom...\n",
       "4    Just when George Banks has recovered from his ...\n",
       "Name: overview, dtype: object"
      ]
     },
     "execution_count": 5,
     "metadata": {},
     "output_type": "execute_result"
    }
   ],
   "source": [
    "metadata['overview'].head()"
   ]
  },
  {
   "cell_type": "markdown",
   "metadata": {
    "id": "8SmbY8cf0ZnL"
   },
   "source": [
    "The problem at hand is a Natural Language Processing problem. Hence you need to **extract some kind of features** from the above text data before you can compute the similarity and/or dissimilarity between them. To put it simply, it is not possible to compute the similarity between any two overviews in their raw forms. To do this, you need to compute the word vectors of each overview or document, as it will be called from now on.\n",
    "\n",
    "As the name suggests, word vectors are vectorized representation of words in a document. The vectors carry a semantic meaning with it. For example, man & king will have vector representations close to each other while man & woman would have representation far from each other. You will compute Term Frequency-Inverse Document Frequency (TF-IDF) vectors for each document. This will give you a matrix where each column represents a word in the overview vocabulary (all the words that appear in at least one document), and each column represents a movie, as before. In its essence, the TF-IDF score is the frequency of a word occurring in a document, down-weighted by the number of documents in which it occurs. This is done to reduce the importance of words that frequently occur in plot overviews and, therefore, their significance in computing the final similarity score. Fortunately, scikit-learn gives you a built-in TfIdfVectorizer class that produces the TF-IDF matrix in a couple of lines.\n",
    "\n",
    "![image.png](data:image/png;base64,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)"
   ]
  },
  {
   "cell_type": "markdown",
   "metadata": {
    "id": "qKsu2cWyXNlm"
   },
   "source": [
    "This recommendation system will be a Credits, Genres, and Keywords content-based recommender."
   ]
  },
  {
   "cell_type": "code",
   "execution_count": 7,
   "metadata": {
    "id": "XbRYtAdh0Vz5"
   },
   "outputs": [],
   "source": [
    "credits = pd.read_csv('the-movies-dataset/credits.csv')\n",
    "keywords = pd.read_csv('the-movies-dataset/keywords.csv')\n",
    "\n",
    "metadata = metadata.drop([19730, 29503, 35587])"
   ]
  },
  {
   "cell_type": "code",
   "execution_count": 8,
   "metadata": {
    "colab": {
     "base_uri": "https://localhost:8080/",
     "height": 111
    },
    "id": "DEoWMOjlZ_0m",
    "outputId": "cc51d0a8-4a26-4d18-f671-adcba472e41b"
   },
   "outputs": [
    {
     "data": {
      "text/html": [
       "<div>\n",
       "<style scoped>\n",
       "    .dataframe tbody tr th:only-of-type {\n",
       "        vertical-align: middle;\n",
       "    }\n",
       "\n",
       "    .dataframe tbody tr th {\n",
       "        vertical-align: top;\n",
       "    }\n",
       "\n",
       "    .dataframe thead th {\n",
       "        text-align: right;\n",
       "    }\n",
       "</style>\n",
       "<table border=\"1\" class=\"dataframe\">\n",
       "  <thead>\n",
       "    <tr style=\"text-align: right;\">\n",
       "      <th></th>\n",
       "      <th>cast</th>\n",
       "      <th>crew</th>\n",
       "      <th>id</th>\n",
       "    </tr>\n",
       "  </thead>\n",
       "  <tbody>\n",
       "    <tr>\n",
       "      <th>0</th>\n",
       "      <td>[{'cast_id': 14, 'character': 'Woody (voice)',...</td>\n",
       "      <td>[{'credit_id': '52fe4284c3a36847f8024f49', 'de...</td>\n",
       "      <td>862</td>\n",
       "    </tr>\n",
       "    <tr>\n",
       "      <th>1</th>\n",
       "      <td>[{'cast_id': 1, 'character': 'Alan Parrish', '...</td>\n",
       "      <td>[{'credit_id': '52fe44bfc3a36847f80a7cd1', 'de...</td>\n",
       "      <td>8844</td>\n",
       "    </tr>\n",
       "  </tbody>\n",
       "</table>\n",
       "</div>"
      ],
      "text/plain": [
       "                                                cast  \\\n",
       "0  [{'cast_id': 14, 'character': 'Woody (voice)',...   \n",
       "1  [{'cast_id': 1, 'character': 'Alan Parrish', '...   \n",
       "\n",
       "                                                crew    id  \n",
       "0  [{'credit_id': '52fe4284c3a36847f8024f49', 'de...   862  \n",
       "1  [{'credit_id': '52fe44bfc3a36847f80a7cd1', 'de...  8844  "
      ]
     },
     "execution_count": 8,
     "metadata": {},
     "output_type": "execute_result"
    }
   ],
   "source": [
    "credits.head(2)"
   ]
  },
  {
   "cell_type": "code",
   "execution_count": 9,
   "metadata": {
    "colab": {
     "base_uri": "https://localhost:8080/",
     "height": 391
    },
    "id": "lnYtUDMXX5EW",
    "outputId": "dfb054fb-ed83-4b21-9c99-2fbd8c473052"
   },
   "outputs": [
    {
     "data": {
      "text/html": [
       "<div>\n",
       "<style scoped>\n",
       "    .dataframe tbody tr th:only-of-type {\n",
       "        vertical-align: middle;\n",
       "    }\n",
       "\n",
       "    .dataframe tbody tr th {\n",
       "        vertical-align: top;\n",
       "    }\n",
       "\n",
       "    .dataframe thead th {\n",
       "        text-align: right;\n",
       "    }\n",
       "</style>\n",
       "<table border=\"1\" class=\"dataframe\">\n",
       "  <thead>\n",
       "    <tr style=\"text-align: right;\">\n",
       "      <th></th>\n",
       "      <th>adult</th>\n",
       "      <th>belongs_to_collection</th>\n",
       "      <th>budget</th>\n",
       "      <th>genres</th>\n",
       "      <th>homepage</th>\n",
       "      <th>id</th>\n",
       "      <th>imdb_id</th>\n",
       "      <th>original_language</th>\n",
       "      <th>original_title</th>\n",
       "      <th>overview</th>\n",
       "      <th>...</th>\n",
       "      <th>spoken_languages</th>\n",
       "      <th>status</th>\n",
       "      <th>tagline</th>\n",
       "      <th>title</th>\n",
       "      <th>video</th>\n",
       "      <th>vote_average</th>\n",
       "      <th>vote_count</th>\n",
       "      <th>cast</th>\n",
       "      <th>crew</th>\n",
       "      <th>keywords</th>\n",
       "    </tr>\n",
       "  </thead>\n",
       "  <tbody>\n",
       "    <tr>\n",
       "      <th>0</th>\n",
       "      <td>False</td>\n",
       "      <td>{'id': 10194, 'name': 'Toy Story Collection', ...</td>\n",
       "      <td>30000000</td>\n",
       "      <td>[{'id': 16, 'name': 'Animation'}, {'id': 35, '...</td>\n",
       "      <td>http://toystory.disney.com/toy-story</td>\n",
       "      <td>862</td>\n",
       "      <td>tt0114709</td>\n",
       "      <td>en</td>\n",
       "      <td>Toy Story</td>\n",
       "      <td>Led by Woody, Andy's toys live happily in his ...</td>\n",
       "      <td>...</td>\n",
       "      <td>[{'iso_639_1': 'en', 'name': 'English'}]</td>\n",
       "      <td>Released</td>\n",
       "      <td>NaN</td>\n",
       "      <td>Toy Story</td>\n",
       "      <td>False</td>\n",
       "      <td>7.7</td>\n",
       "      <td>5415.0</td>\n",
       "      <td>[{'cast_id': 14, 'character': 'Woody (voice)',...</td>\n",
       "      <td>[{'credit_id': '52fe4284c3a36847f8024f49', 'de...</td>\n",
       "      <td>[{'id': 931, 'name': 'jealousy'}, {'id': 4290,...</td>\n",
       "    </tr>\n",
       "    <tr>\n",
       "      <th>1</th>\n",
       "      <td>False</td>\n",
       "      <td>NaN</td>\n",
       "      <td>65000000</td>\n",
       "      <td>[{'id': 12, 'name': 'Adventure'}, {'id': 14, '...</td>\n",
       "      <td>NaN</td>\n",
       "      <td>8844</td>\n",
       "      <td>tt0113497</td>\n",
       "      <td>en</td>\n",
       "      <td>Jumanji</td>\n",
       "      <td>When siblings Judy and Peter discover an encha...</td>\n",
       "      <td>...</td>\n",
       "      <td>[{'iso_639_1': 'en', 'name': 'English'}, {'iso...</td>\n",
       "      <td>Released</td>\n",
       "      <td>Roll the dice and unleash the excitement!</td>\n",
       "      <td>Jumanji</td>\n",
       "      <td>False</td>\n",
       "      <td>6.9</td>\n",
       "      <td>2413.0</td>\n",
       "      <td>[{'cast_id': 1, 'character': 'Alan Parrish', '...</td>\n",
       "      <td>[{'credit_id': '52fe44bfc3a36847f80a7cd1', 'de...</td>\n",
       "      <td>[{'id': 10090, 'name': 'board game'}, {'id': 1...</td>\n",
       "    </tr>\n",
       "  </tbody>\n",
       "</table>\n",
       "<p>2 rows × 27 columns</p>\n",
       "</div>"
      ],
      "text/plain": [
       "   adult                              belongs_to_collection    budget  \\\n",
       "0  False  {'id': 10194, 'name': 'Toy Story Collection', ...  30000000   \n",
       "1  False                                                NaN  65000000   \n",
       "\n",
       "                                              genres  \\\n",
       "0  [{'id': 16, 'name': 'Animation'}, {'id': 35, '...   \n",
       "1  [{'id': 12, 'name': 'Adventure'}, {'id': 14, '...   \n",
       "\n",
       "                               homepage    id    imdb_id original_language  \\\n",
       "0  http://toystory.disney.com/toy-story   862  tt0114709                en   \n",
       "1                                   NaN  8844  tt0113497                en   \n",
       "\n",
       "  original_title                                           overview  ...  \\\n",
       "0      Toy Story  Led by Woody, Andy's toys live happily in his ...  ...   \n",
       "1        Jumanji  When siblings Judy and Peter discover an encha...  ...   \n",
       "\n",
       "                                    spoken_languages    status  \\\n",
       "0           [{'iso_639_1': 'en', 'name': 'English'}]  Released   \n",
       "1  [{'iso_639_1': 'en', 'name': 'English'}, {'iso...  Released   \n",
       "\n",
       "                                     tagline      title  video  vote_average  \\\n",
       "0                                        NaN  Toy Story  False           7.7   \n",
       "1  Roll the dice and unleash the excitement!    Jumanji  False           6.9   \n",
       "\n",
       "   vote_count                                               cast  \\\n",
       "0      5415.0  [{'cast_id': 14, 'character': 'Woody (voice)',...   \n",
       "1      2413.0  [{'cast_id': 1, 'character': 'Alan Parrish', '...   \n",
       "\n",
       "                                                crew  \\\n",
       "0  [{'credit_id': '52fe4284c3a36847f8024f49', 'de...   \n",
       "1  [{'credit_id': '52fe44bfc3a36847f80a7cd1', 'de...   \n",
       "\n",
       "                                            keywords  \n",
       "0  [{'id': 931, 'name': 'jealousy'}, {'id': 4290,...  \n",
       "1  [{'id': 10090, 'name': 'board game'}, {'id': 1...  \n",
       "\n",
       "[2 rows x 27 columns]"
      ]
     },
     "execution_count": 9,
     "metadata": {},
     "output_type": "execute_result"
    }
   ],
   "source": [
    "# converting IDs to integers\n",
    "\n",
    "keywords['id'] = keywords['id'].astype('int')\n",
    "credits['id'] = credits['id'].astype('int')\n",
    "metadata['id'] = metadata['id'].astype('int')\n",
    "\n",
    "\n",
    "# merging the two other dataframes into the metadata frame\n",
    "# so that we can use just it. merging on IDs, meaning that they will match \n",
    "# IDs\n",
    "metadata = metadata.merge(credits, on = 'id')\n",
    "metadata = metadata.merge(keywords, on = 'id')\n",
    "\n",
    "metadata.head(2)"
   ]
  },
  {
   "cell_type": "code",
   "execution_count": 10,
   "metadata": {
    "id": "gEWY77rBYuBd"
   },
   "outputs": [],
   "source": [
    "from ast import literal_eval\n",
    "\n",
    "features = ['cast', 'crew','keywords','genres']\n",
    "for f in features:\n",
    "  metadata[f] = metadata[f].apply(literal_eval)"
   ]
  },
  {
   "cell_type": "code",
   "execution_count": 11,
   "metadata": {
    "id": "ekC_ExUgYxAx"
   },
   "outputs": [],
   "source": [
    "import numpy as np"
   ]
  },
  {
   "cell_type": "code",
   "execution_count": 12,
   "metadata": {
    "id": "8GXlFuS1Zw1t"
   },
   "outputs": [],
   "source": [
    "def get_director(x):\n",
    "  for i in x:\n",
    "    if i['job'] == 'Director':\n",
    "      return i['name']\n",
    "  return np.nan"
   ]
  },
  {
   "cell_type": "code",
   "execution_count": 13,
   "metadata": {
    "id": "5ZMVZ6W6aHc8"
   },
   "outputs": [],
   "source": [
    "def get_list(x):\n",
    "  if isinstance(x, list):\n",
    "    names = [i['name'] for i in x] \n",
    "    if len(names)> 3:\n",
    "      names = names[:3]\n",
    "    return names\n",
    "  return []"
   ]
  },
  {
   "cell_type": "code",
   "execution_count": 14,
   "metadata": {
    "id": "9NqwE-txarVE"
   },
   "outputs": [],
   "source": [
    "metadata['director'] = metadata['crew'].apply(get_director)\n",
    "\n",
    "features = ['cast', 'keywords', 'genres']\n",
    "for f in features:\n",
    "  metadata[f] = metadata[f].apply(get_list)"
   ]
  },
  {
   "cell_type": "code",
   "execution_count": 15,
   "metadata": {
    "colab": {
     "base_uri": "https://localhost:8080/",
     "height": 141
    },
    "id": "K3QV_2VFeSUo",
    "outputId": "0c222b9e-c3ef-4484-f6c1-86f54f2b107f"
   },
   "outputs": [
    {
     "data": {
      "text/html": [
       "<div>\n",
       "<style scoped>\n",
       "    .dataframe tbody tr th:only-of-type {\n",
       "        vertical-align: middle;\n",
       "    }\n",
       "\n",
       "    .dataframe tbody tr th {\n",
       "        vertical-align: top;\n",
       "    }\n",
       "\n",
       "    .dataframe thead th {\n",
       "        text-align: right;\n",
       "    }\n",
       "</style>\n",
       "<table border=\"1\" class=\"dataframe\">\n",
       "  <thead>\n",
       "    <tr style=\"text-align: right;\">\n",
       "      <th></th>\n",
       "      <th>title</th>\n",
       "      <th>cast</th>\n",
       "      <th>director</th>\n",
       "      <th>keywords</th>\n",
       "      <th>genres</th>\n",
       "    </tr>\n",
       "  </thead>\n",
       "  <tbody>\n",
       "    <tr>\n",
       "      <th>0</th>\n",
       "      <td>Toy Story</td>\n",
       "      <td>[Tom Hanks, Tim Allen, Don Rickles]</td>\n",
       "      <td>John Lasseter</td>\n",
       "      <td>[jealousy, toy, boy]</td>\n",
       "      <td>[Animation, Comedy, Family]</td>\n",
       "    </tr>\n",
       "  </tbody>\n",
       "</table>\n",
       "</div>"
      ],
      "text/plain": [
       "       title                                 cast       director  \\\n",
       "0  Toy Story  [Tom Hanks, Tim Allen, Don Rickles]  John Lasseter   \n",
       "\n",
       "               keywords                       genres  \n",
       "0  [jealousy, toy, boy]  [Animation, Comedy, Family]  "
      ]
     },
     "execution_count": 15,
     "metadata": {},
     "output_type": "execute_result"
    }
   ],
   "source": [
    "metadata[['title', 'cast','director', 'keywords', 'genres']].head(1)"
   ]
  },
  {
   "cell_type": "markdown",
   "metadata": {
    "id": "3FZmU0Q4fI4m"
   },
   "source": [
    "The next step would be to convert the names and keyword instances into lowercase and strip all the spaces between them. Removing the spaces between words is an important preprocessing step. It is done so that your vectorizer doesn't count the Johnny of \"Johnny Depp\" and \"Johnny Galecki\" as the same. After this processing step, the aforementioned actors will be represented as \"johnnydepp\" and \"johnnygalecki\" and will be distinct to your vectorizer. Another good example where the model might output the same vector representation is \"bread jam\" and \"traffic jam\". Hence, it is better to strip off any space that is present."
   ]
  },
  {
   "cell_type": "code",
   "execution_count": 16,
   "metadata": {
    "id": "v6m6n5ujfIn_"
   },
   "outputs": [],
   "source": [
    "def clean_data(x):\n",
    "  if isinstance(x, list):\n",
    "    return [str.lower(i.replace(' ', '')) for i in x]\n",
    "  else:\n",
    "    if isinstance(x, str):\n",
    "      return str.lower(x.replace(' ', ''))\n",
    "    else:\n",
    "      return ''"
   ]
  },
  {
   "cell_type": "code",
   "execution_count": 17,
   "metadata": {
    "id": "p1uAFbeTeZdW"
   },
   "outputs": [],
   "source": [
    "features = ['cast', 'keywords', 'director', 'genres']\n",
    "\n",
    "for f in features:\n",
    "  metadata[f] = metadata[f].apply(clean_data)"
   ]
  },
  {
   "cell_type": "code",
   "execution_count": 42,
   "metadata": {
    "id": "17oVr-JOfvoO"
   },
   "outputs": [],
   "source": [
    "def create_soup(x):\n",
    "  return ' '.join(x['keywords']) + ' ' + ' '.join(x['cast']) + ' ' + x['director'] + ' ' + ' '.join(x['genres'])"
   ]
  },
  {
   "cell_type": "code",
   "execution_count": 43,
   "metadata": {
    "id": "ELjtwBXVfvj0"
   },
   "outputs": [],
   "source": [
    "metadata['soup'] = metadata.apply(create_soup, axis = 1 )"
   ]
  },
  {
   "cell_type": "code",
   "execution_count": 44,
   "metadata": {
    "colab": {
     "base_uri": "https://localhost:8080/",
     "height": 111
    },
    "id": "QnCPIxulfvbg",
    "outputId": "0f4366c5-47a5-4c6f-a5ac-7eddf9c0a7ae"
   },
   "outputs": [
    {
     "data": {
      "text/html": [
       "<div>\n",
       "<style scoped>\n",
       "    .dataframe tbody tr th:only-of-type {\n",
       "        vertical-align: middle;\n",
       "    }\n",
       "\n",
       "    .dataframe tbody tr th {\n",
       "        vertical-align: top;\n",
       "    }\n",
       "\n",
       "    .dataframe thead th {\n",
       "        text-align: right;\n",
       "    }\n",
       "</style>\n",
       "<table border=\"1\" class=\"dataframe\">\n",
       "  <thead>\n",
       "    <tr style=\"text-align: right;\">\n",
       "      <th></th>\n",
       "      <th>soup</th>\n",
       "    </tr>\n",
       "  </thead>\n",
       "  <tbody>\n",
       "    <tr>\n",
       "      <th>0</th>\n",
       "      <td>jealousy toy boy tomhanks timallen donrickles ...</td>\n",
       "    </tr>\n",
       "    <tr>\n",
       "      <th>1</th>\n",
       "      <td>boardgame disappearance basedonchildren'sbook ...</td>\n",
       "    </tr>\n",
       "  </tbody>\n",
       "</table>\n",
       "</div>"
      ],
      "text/plain": [
       "                                                soup\n",
       "0  jealousy toy boy tomhanks timallen donrickles ...\n",
       "1  boardgame disappearance basedonchildren'sbook ..."
      ]
     },
     "execution_count": 44,
     "metadata": {},
     "output_type": "execute_result"
    }
   ],
   "source": [
    "metadata[['soup']].head(2)"
   ]
  },
  {
   "cell_type": "markdown",
   "metadata": {
    "id": "6pXO3NcGpNX-"
   },
   "source": [
    "The next steps are the same as what you did with your plot description based recommender. One key difference is that you use the CountVectorizer() instead of TF-IDF. This is because you do not want to down-weight the actor/director's presence if he or she has acted or directed in relatively more movies. It doesn't make much intuitive sense to down-weight them in this context. The major difference between CountVectorizer() and TF-IDF is the inverse document frequency (IDF) component which is present in later and not in the former."
   ]
  },
  {
   "cell_type": "code",
   "execution_count": 45,
   "metadata": {
    "id": "9vRtjorNomnM"
   },
   "outputs": [],
   "source": [
    "from sklearn.feature_extraction.text import CountVectorizer\n",
    "\n",
    "count = CountVectorizer(stop_words = 'english')\n",
    "count_matrix = count.fit_transform(metadata['soup'])"
   ]
  },
  {
   "cell_type": "code",
   "execution_count": 46,
   "metadata": {
    "colab": {
     "base_uri": "https://localhost:8080/"
    },
    "id": "Mt0jA2kTpQdw",
    "outputId": "d3db8ea8-b583-43e3-bc0f-210ef729880e"
   },
   "outputs": [
    {
     "data": {
      "text/plain": [
       "(46628, 73881)"
      ]
     },
     "execution_count": 46,
     "metadata": {},
     "output_type": "execute_result"
    }
   ],
   "source": [
    "count_matrix.shape"
   ]
  },
  {
   "cell_type": "code",
   "execution_count": 47,
   "metadata": {
    "id": "UY6AGot_qE0Y"
   },
   "outputs": [],
   "source": [
    "from sklearn.metrics.pairwise import cosine_similarity\n"
   ]
  },
  {
   "cell_type": "code",
   "execution_count": 48,
   "metadata": {},
   "outputs": [],
   "source": [
    "cosine_sim = cosine_similarity(count_matrix, count_matrix)"
   ]
  },
  {
   "cell_type": "code",
   "execution_count": 49,
   "metadata": {
    "id": "_s3TNqGYqAI6"
   },
   "outputs": [],
   "source": [
    "def get_recommendations(title, cosine_sim=cosine_sim):\n",
    "    # Get the index of the movie that matches the title\n",
    "    idx = indices[title]\n",
    "\n",
    "    # Get the pairwsie similarity scores of all movies with that movie\n",
    "    sim_scores = list(enumerate(cosine_sim[idx]))\n",
    "\n",
    "    # Sort the movies based on the similarity scores\n",
    "    sim_scores = sorted(sim_scores, key=lambda x: x[1], reverse=True)\n",
    "\n",
    "    # Get the scores of the 10 most similar movies\n",
    "    sim_scores = sim_scores[1:11]\n",
    "\n",
    "    # Get the movie indices\n",
    "    movie_indices = [i[0] for i in sim_scores]\n",
    "\n",
    "    # Return the top 10 most similar movies\n",
    "    return metadata['title'].iloc[movie_indices]"
   ]
  },
  {
   "cell_type": "code",
   "execution_count": 51,
   "metadata": {
    "id": "fyRIzBYrpUMl"
   },
   "outputs": [
    {
     "data": {
      "text/plain": [
       "12589      The Dark Knight\n",
       "10210        Batman Begins\n",
       "9311                Shiner\n",
       "9874       Amongst Friends\n",
       "7772              Mitchell\n",
       "516      Romeo Is Bleeding\n",
       "11463         The Prestige\n",
       "24090            Quicksand\n",
       "25038             Deadfall\n",
       "41063                 Sara\n",
       "Name: title, dtype: object"
      ]
     },
     "execution_count": 51,
     "metadata": {},
     "output_type": "execute_result"
    }
   ],
   "source": [
    "# metadata = metadata.reset_index()\n",
    "indices = pd.Series(metadata.index, index = metadata['title'])\n",
    "                    \n",
    "get_recommendations('The Dark Knight Rises', cosine_sim)\n"
   ]
  }
 ],
 "metadata": {
  "accelerator": "TPU",
  "colab": {
   "collapsed_sections": [],
   "provenance": []
  },
  "kernelspec": {
   "display_name": "Python 3 (ipykernel)",
   "language": "python",
   "name": "python3"
  },
  "language_info": {
   "codemirror_mode": {
    "name": "ipython",
    "version": 3
   },
   "file_extension": ".py",
   "mimetype": "text/x-python",
   "name": "python",
   "nbconvert_exporter": "python",
   "pygments_lexer": "ipython3",
   "version": "3.8.13"
  }
 },
 "nbformat": 4,
 "nbformat_minor": 1
}
